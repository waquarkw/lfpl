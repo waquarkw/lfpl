{
 "cells": [
  {
   "cell_type": "markdown",
   "metadata": {},
   "source": [
    "# # Louisville Free Public Library\n",
    "\n",
    "Analysis of Louisville Free Public Library collection inventory.\n",
    "\n",
    "Data Source: [Louisville Metro Open Data](https://data.louisvilleky.gov/datasets/LOJIC::louisville-metro-ky-library-collection-inventory-/about)\n",
    "\n",
    "## Data Dictionary\n",
    "\n",
    "- **BibNum** - The unique identifier of a bibliographic record within our materials database. Materials with the same bibliographic # will generally have the same cataloging metadata, differing only in the barcode number, assigned location and anything else specific to the individual copy.\n",
    "\n",
    "- **Title**- The name of the material.\n",
    "\n",
    "- **Author**- The writer or creator of the material.\n",
    "\n",
    "- **ISBN**- The International Standard Book Number is a numeric commercial book identifier that is intended to be unique. Publishers purchase ISBNs from an affiliate of the International ISBN Agency. An ISBN is assigned to each separate edition and variation of a publication. \n",
    "\n",
    "- **Publication Year**- The year that the material was originally published.\n",
    "\n",
    "- **Item Type**- Describes the type of material of each item, including Books, Audiobooks, Serials, DVDs, Microforms, Three    Dimensional Objects, Kits, and Printed Cartographic Materials. \n",
    "\n",
    "- **Item Collection**- Refers to the collection the material belongs to based on common themes, including but not limited to Adult Fiction, Adult Reference, Mystery, Children’s Fiction, etc.\n",
    "\n",
    "- **Item Location**- The library location where the material was assigned at the time the report was run.\n",
    "\n",
    "- **Item Price** – The price, in USD, that LFPL purchased the material for. "
   ]
  },
  {
   "cell_type": "code",
   "execution_count": null,
   "metadata": {},
   "outputs": [],
   "source": [
    "import pandas as pd\n",
    "\n",
    "books_df = pd.read_csv('books.csv.gz')\n",
    "books_df.columns"
   ]
  },
  {
   "cell_type": "code",
   "execution_count": null,
   "metadata": {},
   "outputs": [],
   "source": []
  },
  {
   "cell_type": "code",
   "execution_count": null,
   "metadata": {},
   "outputs": [],
   "source": []
  }
 ],
 "metadata": {
  "kernelspec": {
   "display_name": "Python 3 (ipykernel)",
   "language": "python",
   "name": "python3"
  },
  "language_info": {
   "codemirror_mode": {
    "name": "ipython",
    "version": 3
   },
   "file_extension": ".py",
   "mimetype": "text/x-python",
   "name": "python",
   "nbconvert_exporter": "python",
   "pygments_lexer": "ipython3",
   "version": "3.10.10"
  },
  "vscode": {
   "interpreter": {
    "hash": "c44c8a1366e1d996b394d70aa65c8f31f3241397ab2c3c9fdb67a021ed1f8b86"
   }
  }
 },
 "nbformat": 4,
 "nbformat_minor": 2
}
